{
 "cells": [
  {
   "attachments": {},
   "cell_type": "markdown",
   "metadata": {},
   "source": [
    "# Intro"
   ]
  },
  {
   "attachments": {},
   "cell_type": "markdown",
   "metadata": {},
   "source": [
    "differences btwn browser js and node js\n",
    "\n",
    "| Property       | Browser JavaScript | Node.js |\n",
    "|----------------|--------------------|---------|\n",
    "| Environment    | Web browser        | Standalone runtime environment |\n",
    "| DOM Manipulation | Yes, access to the DOM | No default access to the DOM (external libraries can be used) |\n",
    "| GUI vs. Pure Logic | Focuses on graphical user interface (GUI) interactions | Focuses on pure logic and server-side programming |\n",
    "| File System Access | No direct access | Provides built-in file system APIs |\n",
    "| Module System | Depends on the module system used (CommonJS, AMD, or ES6 Modules with transpilation/bundling) | Supports CommonJS modules by default and ES6 Modules with recent versions |\n",
    "| Language Version | Depends on the browser version | Depends on the Node.js version and its supported language features |\n",
    "\n",
    "\n"
   ]
  },
  {
   "attachments": {},
   "cell_type": "markdown",
   "metadata": {},
   "source": [
    "install the node.js package using the official version. opt to go for the Long Term Supported vesion "
   ]
  },
  {
   "attachments": {
    "Screenshot 2023-06-21 145859.png": {
     "image/png": "[encoded data removed]"
    }
   },
   "cell_type": "markdown",
   "metadata": {},
   "source": [
    "## how do we get node to evaluate oour code?\n",
    "\n",
    "we have 2 options, REPL and CLI.\n",
    "\n",
    "repl stands for read evaluate print loop. is basically for playing around with code.\n",
    "\n",
    "for example we can run eval as shown in the image below\n",
    "\n",
    "![Screenshot 2023-06-21 145859.png](<attachment:Screenshot 2023-06-21 145859.png>)\n",
    "\n",
    "to evaluate our code we can create a file-folder in our machine eg"
   ]
  },
  {
   "attachments": {},
   "cell_type": "markdown",
   "metadata": {},
   "source": [
    "for"
   ]
  },
  {
   "cell_type": "code",
   "execution_count": 1,
   "metadata": {
    "vscode": {
     "languageId": "javascript"
    }
   },
   "outputs": [
    {
     "ename": "SyntaxError",
     "evalue": "invalid syntax (3372065277.py, line 1)",
     "output_type": "error",
     "traceback": [
      "\u001b[1;36m  Cell \u001b[1;32mIn[1], line 1\u001b[1;36m\u001b[0m\n\u001b[1;33m    const amount = 12\u001b[0m\n\u001b[1;37m          ^\u001b[0m\n\u001b[1;31mSyntaxError\u001b[0m\u001b[1;31m:\u001b[0m invalid syntax\n"
     ]
    }
   ],
   "source": [
    "const amount = 12\n",
    "\n",
    "if(amount < 10){\n",
    "    console.log('small number');\n",
    "}\n",
    "else{\n",
    "    console.log('large number');\n",
    "}\n",
    "\n",
    "console.log();"
   ]
  },
  {
   "cell_type": "code",
   "execution_count": null,
   "metadata": {
    "vscode": {
     "languageId": "javascript"
    }
   },
   "outputs": [],
   "source": []
  }
 ],
 "metadata": {
  "kernelspec": {
   "display_name": "Python 3",
   "language": "python",
   "name": "python3"
  },
  "language_info": {
   "codemirror_mode": {
    "name": "ipython",
    "version": 3
   },
   "file_extension": ".py",
   "mimetype": "text/x-python",
   "name": "python",
   "nbconvert_exporter": "python",
   "pygments_lexer": "ipython3",
   "version": "3.10.10"
  },
  "orig_nbformat": 4
 },
 "nbformat": 4,
 "nbformat_minor": 2
}
